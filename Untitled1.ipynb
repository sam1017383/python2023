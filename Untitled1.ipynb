{
 "cells": [
  {
   "cell_type": "code",
   "execution_count": 1,
   "id": "5e5a5e36",
   "metadata": {},
   "outputs": [],
   "source": [
    "import pandas as pd"
   ]
  },
  {
   "cell_type": "code",
   "execution_count": 2,
   "id": "c495477a",
   "metadata": {},
   "outputs": [],
   "source": [
    "names = [\"john\", \"paul\", \"george\", \"ringo\"]\n",
    "instruments = [\"vocals\", \"guitar\", \"guitar\", \"drums\"]"
   ]
  },
  {
   "cell_type": "code",
   "execution_count": 5,
   "id": "92f9802f",
   "metadata": {},
   "outputs": [],
   "source": [
    "# Series == Vector == List\n",
    "beatles_names = pd.Series(names)\n",
    "beatles_instruments = pd.Series(instruments)"
   ]
  },
  {
   "cell_type": "code",
   "execution_count": 6,
   "id": "70042831",
   "metadata": {},
   "outputs": [
    {
     "data": {
      "text/plain": [
       "0    vocals\n",
       "1    guitar\n",
       "2    guitar\n",
       "3     drums\n",
       "dtype: object"
      ]
     },
     "execution_count": 6,
     "metadata": {},
     "output_type": "execute_result"
    }
   ],
   "source": [
    "beatles_instruments"
   ]
  },
  {
   "cell_type": "code",
   "execution_count": 8,
   "id": "e29bc101",
   "metadata": {},
   "outputs": [],
   "source": [
    "# Dataframe == Table \n",
    "my_table = pd.DataFrame({\"Names of each beatle\": beatles_names, \"Each instrument\":beatles_instruments })"
   ]
  },
  {
   "cell_type": "code",
   "execution_count": 9,
   "id": "9c7fcebb",
   "metadata": {},
   "outputs": [
    {
     "data": {
      "text/html": [
       "<div>\n",
       "<style scoped>\n",
       "    .dataframe tbody tr th:only-of-type {\n",
       "        vertical-align: middle;\n",
       "    }\n",
       "\n",
       "    .dataframe tbody tr th {\n",
       "        vertical-align: top;\n",
       "    }\n",
       "\n",
       "    .dataframe thead th {\n",
       "        text-align: right;\n",
       "    }\n",
       "</style>\n",
       "<table border=\"1\" class=\"dataframe\">\n",
       "  <thead>\n",
       "    <tr style=\"text-align: right;\">\n",
       "      <th></th>\n",
       "      <th>Names of each beatle</th>\n",
       "      <th>Each instrument</th>\n",
       "    </tr>\n",
       "  </thead>\n",
       "  <tbody>\n",
       "    <tr>\n",
       "      <th>0</th>\n",
       "      <td>john</td>\n",
       "      <td>vocals</td>\n",
       "    </tr>\n",
       "    <tr>\n",
       "      <th>1</th>\n",
       "      <td>paul</td>\n",
       "      <td>guitar</td>\n",
       "    </tr>\n",
       "    <tr>\n",
       "      <th>2</th>\n",
       "      <td>george</td>\n",
       "      <td>guitar</td>\n",
       "    </tr>\n",
       "    <tr>\n",
       "      <th>3</th>\n",
       "      <td>ringo</td>\n",
       "      <td>drums</td>\n",
       "    </tr>\n",
       "  </tbody>\n",
       "</table>\n",
       "</div>"
      ],
      "text/plain": [
       "  Names of each beatle Each instrument\n",
       "0                 john          vocals\n",
       "1                 paul          guitar\n",
       "2               george          guitar\n",
       "3                ringo           drums"
      ]
     },
     "execution_count": 9,
     "metadata": {},
     "output_type": "execute_result"
    }
   ],
   "source": [
    "my_table"
   ]
  },
  {
   "cell_type": "code",
   "execution_count": 10,
   "id": "df4a450f",
   "metadata": {},
   "outputs": [],
   "source": [
    "my_table_from_lists = pd.DataFrame({\"Names of each beatle\": names, \"Each instrument\":instruments })"
   ]
  },
  {
   "cell_type": "code",
   "execution_count": 11,
   "id": "f2765d88",
   "metadata": {},
   "outputs": [
    {
     "data": {
      "text/html": [
       "<div>\n",
       "<style scoped>\n",
       "    .dataframe tbody tr th:only-of-type {\n",
       "        vertical-align: middle;\n",
       "    }\n",
       "\n",
       "    .dataframe tbody tr th {\n",
       "        vertical-align: top;\n",
       "    }\n",
       "\n",
       "    .dataframe thead th {\n",
       "        text-align: right;\n",
       "    }\n",
       "</style>\n",
       "<table border=\"1\" class=\"dataframe\">\n",
       "  <thead>\n",
       "    <tr style=\"text-align: right;\">\n",
       "      <th></th>\n",
       "      <th>Names of each beatle</th>\n",
       "      <th>Each instrument</th>\n",
       "    </tr>\n",
       "  </thead>\n",
       "  <tbody>\n",
       "    <tr>\n",
       "      <th>0</th>\n",
       "      <td>john</td>\n",
       "      <td>vocals</td>\n",
       "    </tr>\n",
       "    <tr>\n",
       "      <th>1</th>\n",
       "      <td>paul</td>\n",
       "      <td>guitar</td>\n",
       "    </tr>\n",
       "    <tr>\n",
       "      <th>2</th>\n",
       "      <td>george</td>\n",
       "      <td>guitar</td>\n",
       "    </tr>\n",
       "    <tr>\n",
       "      <th>3</th>\n",
       "      <td>ringo</td>\n",
       "      <td>drums</td>\n",
       "    </tr>\n",
       "  </tbody>\n",
       "</table>\n",
       "</div>"
      ],
      "text/plain": [
       "  Names of each beatle Each instrument\n",
       "0                 john          vocals\n",
       "1                 paul          guitar\n",
       "2               george          guitar\n",
       "3                ringo           drums"
      ]
     },
     "execution_count": 11,
     "metadata": {},
     "output_type": "execute_result"
    }
   ],
   "source": [
    "my_table_from_lists"
   ]
  },
  {
   "cell_type": "code",
   "execution_count": 2,
   "id": "b15752d8",
   "metadata": {},
   "outputs": [],
   "source": [
    "beatles_list_dicts = [{\"name\":\"john\", \"instrument\":\"vocals\"}, \n",
    "                      {\"name\":\"paul\", \"instrument\":\"guitar\"}, \n",
    "                      {\"name\":\"george\", \"instrument\":\"guitar\"}, \n",
    "                      {\"name\":\"ringo\", \"instrument\":\"drums\"}]"
   ]
  },
  {
   "cell_type": "code",
   "execution_count": 3,
   "id": "19f92769",
   "metadata": {},
   "outputs": [
    {
     "data": {
      "text/plain": [
       "[{'name': 'john', 'instrument': 'vocals'},\n",
       " {'name': 'paul', 'instrument': 'guitar'},\n",
       " {'name': 'george', 'instrument': 'guitar'},\n",
       " {'name': 'ringo', 'instrument': 'drums'}]"
      ]
     },
     "execution_count": 3,
     "metadata": {},
     "output_type": "execute_result"
    }
   ],
   "source": [
    "beatles_list_dicts"
   ]
  },
  {
   "cell_type": "code",
   "execution_count": 13,
   "id": "0316e7b9",
   "metadata": {},
   "outputs": [],
   "source": [
    "my_table_from_dicts = pd.DataFrame(beatles_list_dicts)"
   ]
  },
  {
   "cell_type": "code",
   "execution_count": 14,
   "id": "286a7e95",
   "metadata": {},
   "outputs": [
    {
     "data": {
      "text/html": [
       "<div>\n",
       "<style scoped>\n",
       "    .dataframe tbody tr th:only-of-type {\n",
       "        vertical-align: middle;\n",
       "    }\n",
       "\n",
       "    .dataframe tbody tr th {\n",
       "        vertical-align: top;\n",
       "    }\n",
       "\n",
       "    .dataframe thead th {\n",
       "        text-align: right;\n",
       "    }\n",
       "</style>\n",
       "<table border=\"1\" class=\"dataframe\">\n",
       "  <thead>\n",
       "    <tr style=\"text-align: right;\">\n",
       "      <th></th>\n",
       "      <th>name</th>\n",
       "      <th>instrument</th>\n",
       "    </tr>\n",
       "  </thead>\n",
       "  <tbody>\n",
       "    <tr>\n",
       "      <th>0</th>\n",
       "      <td>john</td>\n",
       "      <td>vocals</td>\n",
       "    </tr>\n",
       "    <tr>\n",
       "      <th>1</th>\n",
       "      <td>paul</td>\n",
       "      <td>guitar</td>\n",
       "    </tr>\n",
       "    <tr>\n",
       "      <th>2</th>\n",
       "      <td>george</td>\n",
       "      <td>guitar</td>\n",
       "    </tr>\n",
       "    <tr>\n",
       "      <th>3</th>\n",
       "      <td>ringo</td>\n",
       "      <td>drums</td>\n",
       "    </tr>\n",
       "  </tbody>\n",
       "</table>\n",
       "</div>"
      ],
      "text/plain": [
       "     name instrument\n",
       "0    john     vocals\n",
       "1    paul     guitar\n",
       "2  george     guitar\n",
       "3   ringo      drums"
      ]
     },
     "execution_count": 14,
     "metadata": {},
     "output_type": "execute_result"
    }
   ],
   "source": [
    "my_table_from_dicts"
   ]
  },
  {
   "cell_type": "code",
   "execution_count": null,
   "id": "05f82b34",
   "metadata": {},
   "outputs": [],
   "source": []
  }
 ],
 "metadata": {
  "kernelspec": {
   "display_name": "Python 3 (ipykernel)",
   "language": "python",
   "name": "python3"
  },
  "language_info": {
   "codemirror_mode": {
    "name": "ipython",
    "version": 3
   },
   "file_extension": ".py",
   "mimetype": "text/x-python",
   "name": "python",
   "nbconvert_exporter": "python",
   "pygments_lexer": "ipython3",
   "version": "3.10.9"
  }
 },
 "nbformat": 4,
 "nbformat_minor": 5
}
